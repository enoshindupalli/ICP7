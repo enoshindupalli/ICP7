{
  "nbformat": 4,
  "nbformat_minor": 0,
  "metadata": {
    "colab": {
      "provenance": []
    },
    "kernelspec": {
      "name": "python3",
      "display_name": "Python 3"
    },
    "language_info": {
      "name": "python"
    }
  },
  "cells": [
    {
      "cell_type": "markdown",
      "source": [
        "\n",
        "\n",
        "```\n",
        "Name :Enosh Indupalli\n",
        "700 :700751940\n",
        "GIT LNIK :\n",
        "Video link :\n",
        "\n"
      ],
      "metadata": {
        "id": "gopD2Hw64x-q"
      }
    },
    {
      "cell_type": "code",
      "source": [
        "import pandas as pd\n",
        "import re\n",
        "from sklearn.model_selection import train_test_split\n",
        "from sklearn.preprocessing import LabelEncoder\n",
        "import tensorflow as tf\n",
        "from tensorflow.keras.preprocessing.text import Tokenizer\n",
        "from tensorflow.keras.preprocessing.sequence import pad_sequences\n",
        "from tensorflow.keras.models import Sequential\n",
        "from tensorflow.keras.layers import Embedding, LSTM, Dense, SpatialDropout1D, Bidirectional\n",
        "from tensorflow.keras.utils import to_categorical\n",
        "from tensorflow.keras.callbacks import EarlyStopping\n",
        "from tensorflow.keras.models import load_model\n",
        "import numpy as np\n",
        "import os\n",
        "os.getcwd()  # Check current directory\n",
        "os.listdir()  # List files in the directory\n",
        "\n",
        "\n",
        "# Load the dataset\n",
        "data = pd.read_csv('/content/Sentiment (3) (2) (1).csv')\n",
        "\n",
        "# Select relevant columns\n",
        "data = data[['text', 'sentiment']]\n",
        "\n",
        "# Preprocess the text data\n",
        "data['text'] = data['text'].apply(lambda x: x.lower())\n",
        "data['text'] = data['text'].apply(lambda x: re.sub('[^a-zA-Z0-9\\s]', '', x))\n",
        "\n",
        "# Encode the sentiment labels (Positive = 1, Negative = 0, Neutral = 2)\n",
        "label_encoder = LabelEncoder()\n",
        "data['sentiment'] = label_encoder.fit_transform(data['sentiment'])\n",
        "\n",
        "# Tokenization and padding\n",
        "max_features = 5000  # Use more features for vocabulary\n",
        "tokenizer = Tokenizer(num_words=max_features, split=' ')\n",
        "tokenizer.fit_on_texts(data['text'].values)\n",
        "X = tokenizer.texts_to_sequences(data['text'].values)\n",
        "X = pad_sequences(X, maxlen=300)  # Set a fixed sequence length for all inputs\n",
        "\n",
        "# Define the target variable (sentiment)\n",
        "Y = to_categorical(data['sentiment'], num_classes=3)\n",
        "\n",
        "# Split the data into training and testing sets\n",
        "X_train, X_test, Y_train, Y_test = train_test_split(X, Y, test_size=0.2, random_state=42)\n",
        "\n",
        "# Build the LSTM model with a Bidirectional LSTM layer\n",
        "def create_bidirectional_lstm():\n",
        "    model = Sequential()\n",
        "    model.add(Embedding(max_features, 128, input_length=X.shape[1]))\n",
        "    model.add(SpatialDropout1D(0.2))\n",
        "    model.add(Bidirectional(LSTM(100, dropout=0.2, recurrent_dropout=0.2)))\n",
        "    model.add(Dense(3, activation='softmax'))  # 3 output classes: Positive, Neutral, Negative\n",
        "    model.compile(loss='categorical_crossentropy', optimizer='adam', metrics=['accuracy'])\n",
        "    return model\n",
        "\n",
        "# Initialize the LSTM model\n",
        "model = create_bidirectional_lstm()\n",
        "\n",
        "# Add Early Stopping to prevent overfitting\n",
        "early_stop = EarlyStopping(monitor='val_loss', patience=3, restore_best_weights=True)\n",
        "\n",
        "# Train the model with early stopping\n",
        "model.fit(X_train, Y_train, epochs=10, batch_size=32, validation_data=(X_test, Y_test),\n",
        "          callbacks=[early_stop], verbose=2)\n",
        "\n",
        "# Save the model\n",
        "model.save('sentiment_bidirectional_lstm.h5')\n",
        "\n",
        "# Load the model for future use\n",
        "loaded_model = load_model('sentiment_bidirectional_lstm.h5')\n",
        "\n",
        "# Example prediction with the new model\n",
        "new_text = [\"A lot of good things are happening. We are respected again throughout the world, and that's a great thing.@realDonaldTrump\"]\n",
        "new_text_sequences = tokenizer.texts_to_sequences(new_text)\n",
        "new_text_padded = pad_sequences(new_text_sequences, maxlen=300)\n",
        "prediction = loaded_model.predict(new_text_padded)\n",
        "predicted_class = np.argmax(prediction, axis=1)\n",
        "print(\"Predicted sentiment class:\", label_encoder.inverse_transform(predicted_class))\n",
        "\n",
        "# Evaluate the model performance\n",
        "loss, accuracy = loaded_model.evaluate(X_test, Y_test, verbose=2)\n",
        "print(f\"Test accuracy: {accuracy}\")\n"
      ],
      "metadata": {
        "colab": {
          "base_uri": "https://localhost:8080/"
        },
        "id": "gOm7mGgH9qf1",
        "outputId": "5c8dd45e-b031-40a4-be19-19fcc5a54d69"
      },
      "execution_count": 2,
      "outputs": [
        {
          "output_type": "stream",
          "name": "stdout",
          "text": [
            "Epoch 1/10\n"
          ]
        },
        {
          "output_type": "stream",
          "name": "stderr",
          "text": [
            "/usr/local/lib/python3.10/dist-packages/keras/src/layers/core/embedding.py:90: UserWarning: Argument `input_length` is deprecated. Just remove it.\n",
            "  warnings.warn(\n"
          ]
        },
        {
          "output_type": "stream",
          "name": "stdout",
          "text": [
            "347/347 - 273s - 786ms/step - accuracy: 0.6445 - loss: 0.8277 - val_accuracy: 0.6865 - val_loss: 0.7384\n",
            "Epoch 2/10\n",
            "347/347 - 266s - 767ms/step - accuracy: 0.7153 - loss: 0.6652 - val_accuracy: 0.6890 - val_loss: 0.7193\n",
            "Epoch 3/10\n",
            "347/347 - 264s - 760ms/step - accuracy: 0.7625 - loss: 0.5681 - val_accuracy: 0.6714 - val_loss: 0.7706\n",
            "Epoch 4/10\n",
            "347/347 - 320s - 922ms/step - accuracy: 0.7926 - loss: 0.5024 - val_accuracy: 0.6789 - val_loss: 0.7794\n",
            "Epoch 5/10\n",
            "347/347 - 265s - 765ms/step - accuracy: 0.8182 - loss: 0.4451 - val_accuracy: 0.6595 - val_loss: 0.9088\n"
          ]
        },
        {
          "output_type": "stream",
          "name": "stderr",
          "text": [
            "WARNING:absl:You are saving your model as an HDF5 file via `model.save()` or `keras.saving.save_model(model)`. This file format is considered legacy. We recommend using instead the native Keras format, e.g. `model.save('my_model.keras')` or `keras.saving.save_model(model, 'my_model.keras')`. \n",
            "WARNING:absl:Compiled the loaded model, but the compiled metrics have yet to be built. `model.compile_metrics` will be empty until you train or evaluate the model.\n"
          ]
        },
        {
          "output_type": "stream",
          "name": "stdout",
          "text": [
            "\u001b[1m1/1\u001b[0m \u001b[32m━━━━━━━━━━━━━━━━━━━━\u001b[0m\u001b[37m\u001b[0m \u001b[1m0s\u001b[0m 488ms/step\n",
            "Predicted sentiment class: ['Positive']\n",
            "87/87 - 20s - 232ms/step - accuracy: 0.6890 - loss: 0.7193\n",
            "Test accuracy: 0.6890090107917786\n"
          ]
        }
      ]
    }
  ]
}